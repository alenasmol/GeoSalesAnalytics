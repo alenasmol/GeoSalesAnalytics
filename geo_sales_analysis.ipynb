# GeoSalesAnalytics - Jupyter Notebook
# Visualizing SQL Data for Geographical Sales Analysis

# Importing necessary libraries
import sqlite3
import pandas as pd
import matplotlib.pyplot as plt
import folium

# Connect to the SQLite database
conn = sqlite3.connect("geo_sales.db")

# Load data into Pandas DataFrames
regions = pd.read_sql("SELECT * FROM Regions", conn)
sales = pd.read_sql("""
    SELECT r.region_name, r.latitude, r.longitude, SUM(s.sale_amount) AS total_sales
    FROM Sales s
    JOIN Regions r ON s.region_id = r.region_id
    GROUP BY r.region_name
    ORDER BY total_sales DESC
""", conn)

# Close the database connection
conn.close()

# 1. Bar Plot: Total Sales by Region
plt.figure(figsize=(10, 6))
plt.bar(sales['region_name'], sales['total_sales'], color='skyblue')
plt.title('Total Sales by Region')
plt.xlabel('Region')
plt.ylabel('Total Sales')
plt.xticks(rotation=45)
plt.show()

# 2. Table Preview: Total Sales Data
print("Total Sales by Region:")
display(sales)

# 3. Geo Map: Sales Visualization with Folium
# Create a map centered at average latitude and longitude
sales_map = folium.Map(location=[sales['latitude'].mean(), sales['longitude'].mean()], zoom_start=4)

# Add circles for each region
for _, row in sales.iterrows():
    folium.CircleMarker(
        location=[row['latitude'], row['longitude']],
        radius=row['total_sales'] / 1000,  # Adjust size of circle based on sales
        color='blue',
        fill=True,
        fill_color='blue',
        fill_opacity=0.6,
        popup=f"{row['region_name']}: ${row['total_sales']:,.2f}"
    ).add_to(sales_map)

# Save and show the map
sales_map.save("geo_sales_map.html")
print("Map saved as geo_sales_map.html")
